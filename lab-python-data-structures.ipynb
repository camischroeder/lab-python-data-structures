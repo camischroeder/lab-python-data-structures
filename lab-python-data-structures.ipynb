{
 "cells": [
  {
   "cell_type": "markdown",
   "metadata": {
    "tags": []
   },
   "source": [
    "# Lab | Data Structures "
   ]
  },
  {
   "cell_type": "code",
   "execution_count": 1,
   "metadata": {},
   "outputs": [
    {
     "name": "stdout",
     "output_type": "stream",
     "text": [
      "{'t-shirt': 1, 'mug': 2, 'hat': 3, 'book': 4, 'keychain': 5}\n"
     ]
    }
   ],
   "source": [
    "# 1. Define a list called `products` that contains the following items: \"t-shirt\", \"mug\", \"hat\", \"book\", \"keychain\". \n",
    "# 2. Create an empty dictionary called `inventory`.\n",
    "# 3. Ask the user to input the quantity of each product available in the inventory. Use the product names from the products list as keys in the inventory dictionary and assign the respective quantities as values.\n",
    "\n",
    "products = [\"t-shirt\", \"mug\", \"hat\", \"book\", \"keychain\"]\n",
    "inventory = {}\n",
    "values = [\n",
    "    int(input(\"How many t-shirts are there?\")), \n",
    "    int(input(\"How many mug are there?\")), \n",
    "    int(input(\"How many hats are there?\")), \n",
    "    int(input(\"How many books are there?\")), \n",
    "    int(input(\"How many keychains are there?\"))\n",
    "]\n",
    "\n",
    "productquant = zip(products, values)\n",
    "inventory = dict(productquant)\n",
    "\n",
    "print(inventory)"
   ]
  },
  {
   "cell_type": "code",
   "execution_count": 2,
   "metadata": {},
   "outputs": [
    {
     "name": "stdout",
     "output_type": "stream",
     "text": [
      "{'mug', 'hat', 'keychain'}\n"
     ]
    }
   ],
   "source": [
    "# 4. Create an empty set called `customer_orders`.\n",
    "# 5. Ask the user to input the name of three products that a customer wants to order (from those in the products list, meaning three products out of \"t-shirt\", \"mug\", \"hat\", \"book\" or \"keychain\". Add each product name to the `customer_orders` set.\n",
    "# 6. Print the products in the `customer_orders` set.\n",
    "\n",
    "customer_orders = set()\n",
    "\n",
    "customer_orders.add(input(\"Please choose item 1 of 3 from our available items\"))\n",
    "customer_orders.add(input(\"Please choose item 2 of 3 from our available items\"))\n",
    "customer_orders.add(input(\"Please choose item 3 of 3 from our available items\"))\n",
    "\n",
    "print(customer_orders)"
   ]
  },
  {
   "cell_type": "code",
   "execution_count": 3,
   "metadata": {},
   "outputs": [
    {
     "name": "stdout",
     "output_type": "stream",
     "text": [
      "You have chosen 3 products from our line. They represent 60.0 % of our line of products\n"
     ]
    }
   ],
   "source": [
    "# 7. Calculate the following order statistics:\n",
    "# - Total Products Ordered: The total number of products in the `customer_orders` set.\n",
    "# - Percentage of Products Ordered: The percentage of products ordered compared to the total available products.\n",
    "# Store these statistics in a tuple called `order_status`.\n",
    "\n",
    "total_ordered = len(customer_orders)\n",
    "total_available = len(products)\n",
    "\n",
    "def percentage(order, available):\n",
    "    return 100 * total_ordered/total_available\n",
    "\n",
    "order_stats = (total_ordered, percentage(total_ordered, total_available))\n",
    "\n",
    "print(\"You have chosen\", order_stats[0], \"products from our line. They represent\", order_stats[-1], \"% of our line of products\")"
   ]
  },
  {
   "cell_type": "code",
   "execution_count": 4,
   "metadata": {},
   "outputs": [
    {
     "name": "stdout",
     "output_type": "stream",
     "text": [
      "(3, 60.0)\n"
     ]
    }
   ],
   "source": [
    "order_stats = tuple(order_stats)\n",
    "type(order_stats)\n",
    "print(order_stats)"
   ]
  },
  {
   "cell_type": "code",
   "execution_count": 5,
   "metadata": {},
   "outputs": [
    {
     "name": "stdout",
     "output_type": "stream",
     "text": [
      "Order Statistics: Total Products Ordered: 3 | Percentage of Products Ordered: 60.0\n"
     ]
    }
   ],
   "source": [
    "# 8. Print the order statistics using the following format:\n",
    "\n",
    "print(\"Order Statistics:\",\n",
    "      \"Total Products Ordered:\", total_ordered, \"|\", \n",
    "      \"Percentage of Products Ordered:\", percentage(total_ordered, total_available))"
   ]
  },
  {
   "cell_type": "code",
   "execution_count": 6,
   "metadata": {},
   "outputs": [
    {
     "data": {
      "text/plain": [
       "{'t-shirt': 0, 'mug': 1, 'hat': 2, 'book': 3, 'keychain': 4}"
      ]
     },
     "execution_count": 6,
     "metadata": {},
     "output_type": "execute_result"
    }
   ],
   "source": [
    "# 9. Update the inventory by subtracting 1 from the quantity of each product. Modify the `inventory` dictionary accordingly.\n",
    "# 10. Print the updated inventory, displaying the quantity of each product on separate lines.\n",
    "\n",
    "def onemoreitem(dictionary):\n",
    "    for key in dictionary:\n",
    "        dictionary[key] -= 1\n",
    "    \n",
    "    return inventory\n",
    "\n",
    "onemoreitem(inventory)"
   ]
  }
 ],
 "metadata": {
  "kernelspec": {
   "display_name": "Python 3 (ipykernel)",
   "language": "python",
   "name": "python3"
  },
  "language_info": {
   "codemirror_mode": {
    "name": "ipython",
    "version": 3
   },
   "file_extension": ".py",
   "mimetype": "text/x-python",
   "name": "python",
   "nbconvert_exporter": "python",
   "pygments_lexer": "ipython3",
   "version": "3.11.4"
  }
 },
 "nbformat": 4,
 "nbformat_minor": 4
}
